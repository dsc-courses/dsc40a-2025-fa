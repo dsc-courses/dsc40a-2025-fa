{
 "cells": [
  {
   "cell_type": "markdown",
   "metadata": {},
   "source": [
    "# Homework 3 Supplemental Notebook\n",
    "\n",
    "## DSC 40A, Fall 2025\n",
    "\n",
    "In this notebook, you'll answer Problems 6(b) and 6(c) in Homework 3. In addition to submitting your answers PDF to the Homework 3 assignment on Gradescope, also submit a copy or screenshots of this notebook to the Homework 3 Gradescope portal."
   ]
  },
  {
   "cell_type": "code",
   "execution_count": 25,
   "metadata": {},
   "outputs": [],
   "source": [
    "import numpy as np\n",
    "import matplotlib.pyplot as plt\n",
    "from itertools import combinations"
   ]
  },
  {
   "cell_type": "markdown",
   "metadata": {},
   "source": [
    "Below, we load in the example we're going to use in Problem 6. The $x$ values are stored in the array `x_values`, and the $y$ values are stored in the array `y_values`."
   ]
  },
  {
   "cell_type": "code",
   "execution_count": null,
   "metadata": {},
   "outputs": [
    {
     "name": "stdout",
     "output_type": "stream",
     "text": [
      "(25, 2)\n"
     ]
    },
    {
     "data": {
      "text/plain": [
       "(array([0.37409697, 0.48774687, 1.24169326, 0.96114056, 0.46772384,\n",
       "        2.04745362, 2.86501224, 1.77766685, 2.74702949, 3.82604325,\n",
       "        4.23585972, 4.83779885, 5.60953618, 5.16703963, 6.34017622,\n",
       "        6.02201004, 6.63617937, 6.74636598, 7.15795396, 8.10465382,\n",
       "        9.31935408, 8.62770455, 9.58996385, 9.40079705, 9.27416003]),\n",
       " array([-2.84415937, -2.55623193, -1.5268532 , -1.87451543, -2.18550546,\n",
       "        -1.60613891, -1.07134257, -0.54231917, -1.01476489,  0.09591715,\n",
       "        -0.05416282,  0.47489329,  0.6027664 ,  1.63483468,  1.38252507,\n",
       "         1.89740076,  1.32505631,  2.01013934,  2.72249913,  2.35017656,\n",
       "         3.56691682,  3.941796  ,  3.71593902,  4.74486834,  3.48876945]))"
      ]
     },
     "execution_count": 26,
     "metadata": {},
     "output_type": "execute_result"
    }
   ],
   "source": [
    "# Friendly PSA: If you value your grade, don't change this cell.\n",
    "\n",
    "np.random.seed(5051) \n",
    "\n",
    "x_values, y_values = np.linspace(0, 10, 25), np.linspace(-3, 4, 25)\n",
    "x_values, y_values = x_values + 0.5*np.random.randn(*x_values.shape), y_values + 0.5*np.random.randn(*y_values.shape)\n",
    "\n",
    "data = np.array([x_values, y_values]).T\n",
    "\n",
    "# This will be your data for this problem. Nothing special: just some 'clean data' and a small amount of noise\n",
    "x_values, y_values "
   ]
  },
  {
   "cell_type": "markdown",
   "metadata": {
    "deletable": false,
    "editable": false
   },
   "source": [
    "<!--\n",
    "BEGIN QUESTION\n",
    "name: q6b\n",
    "points: 3\n",
    "-->\n",
    "\n",
    "### Problem 6(b)\n",
    "\n",
    "Complete the implementation of the function `least_squares_regression`. It takes in two arrays, `x` and `y`, and should return a **tuple** of the form `(w0_star, w1_star)`, where `w0_star` and `w1_star` are the intercept and slope, respectively, of the linear hypothesis function that minimizes mean squared error when using `x` to predict `y`.\n",
    "\n",
    "Note that your implementation of `least_squares_regression` should work on any arrays `x` and `y`, not just the `x_values` and `y_values` arrays defined above."
   ]
  },
  {
   "cell_type": "code",
   "execution_count": 27,
   "metadata": {},
   "outputs": [],
   "source": [
    "def least_squares_regression(x, y):\n",
    "    ..."
   ]
  },
  {
   "cell_type": "markdown",
   "metadata": {},
   "source": [
    "Great! Run the cell below to find the equation of the least squares regression line for this dataset."
   ]
  },
  {
   "cell_type": "code",
   "execution_count": 28,
   "metadata": {},
   "outputs": [
    {
     "ename": "TypeError",
     "evalue": "cannot unpack non-iterable NoneType object",
     "output_type": "error",
     "traceback": [
      "\u001b[0;31m---------------------------------------------------------------------------\u001b[0m",
      "\u001b[0;31mTypeError\u001b[0m                                 Traceback (most recent call last)",
      "Cell \u001b[0;32mIn[28], line 1\u001b[0m\n\u001b[0;32m----> 1\u001b[0m intercept_sq, slope_sq \u001b[38;5;241m=\u001b[39m least_squares_regression(x_values, y_values)\n\u001b[1;32m      2\u001b[0m \u001b[38;5;28;01mfrom\u001b[39;00m \u001b[38;5;21;01mIPython\u001b[39;00m\u001b[38;5;21;01m.\u001b[39;00m\u001b[38;5;21;01mdisplay\u001b[39;00m \u001b[38;5;28;01mimport\u001b[39;00m Markdown\n\u001b[1;32m      3\u001b[0m Markdown(\u001b[38;5;124mf\u001b[39m\u001b[38;5;124m'''\u001b[39m\n\u001b[1;32m      4\u001b[0m \u001b[38;5;124mThe least squares regression line for our dataset is $H^*(x) = \u001b[39m\u001b[38;5;132;01m{\u001b[39;00m\u001b[38;5;28mround\u001b[39m(intercept_sq,\u001b[38;5;250m \u001b[39m\u001b[38;5;241m4\u001b[39m)\u001b[38;5;132;01m}\u001b[39;00m\u001b[38;5;124m + \u001b[39m\u001b[38;5;132;01m{\u001b[39;00m\u001b[38;5;28mround\u001b[39m(slope_sq,\u001b[38;5;250m \u001b[39m\u001b[38;5;241m4\u001b[39m)\u001b[38;5;132;01m}\u001b[39;00m\u001b[38;5;124mx$.\u001b[39m\n\u001b[1;32m      5\u001b[0m \u001b[38;5;124m'''\u001b[39m)\n",
      "\u001b[0;31mTypeError\u001b[0m: cannot unpack non-iterable NoneType object"
     ]
    }
   ],
   "source": [
    "intercept_sq, slope_sq = least_squares_regression(x_values, y_values)\n",
    "from IPython.display import Markdown\n",
    "Markdown(f'''\n",
    "The least squares regression line for our dataset is $H^*(x) = {round(intercept_sq, 4)} + {round(slope_sq, 4)}x$.\n",
    "''')"
   ]
  },
  {
   "cell_type": "markdown",
   "metadata": {},
   "source": [
    "Now, let's turn our attention to implementing least absolute deviation regression. Recall from the PDF the following statement:\n",
    "\n",
    "> If you have a dataset with $n$ data points in $\\mathbb{R}^k$, where $k \\leq n$, then one of the optimal LAD regression lines must pass through $k$ data points."
   ]
  },
  {
   "cell_type": "markdown",
   "metadata": {},
   "source": [
    "Our strategy, then, is to:\n",
    "\n",
    "1. Look at all possible pairs of points in `data`.\n",
    "1. Calculate the intercept and slope between each pair of points.\n",
    "1. Compute the mean absolute deviation of the predictions made by each line.\n",
    "1. Pick the intercept and slope that had the lowest mean absolute deviation.\n",
    "\n",
    "Steps 1 and 2 are implemented for you below. Try and understand how they work."
   ]
  },
  {
   "cell_type": "code",
   "execution_count": null,
   "metadata": {},
   "outputs": [],
   "source": [
    "def generate_all_unique_pairs(data):\n",
    "    \"\"\"Generate a list of all possible pairs of points from the data.\"\"\"\n",
    "    return list(combinations(data, 2))"
   ]
  },
  {
   "cell_type": "code",
   "execution_count": null,
   "metadata": {},
   "outputs": [],
   "source": [
    "def generate_all_lines(pairs_of_points):\n",
    "    \"\"\" Generate the (w0, w1) pair for the line that goes through each given pair of points.\n",
    "        Uses the fact that there is a unique line that passes through any two points.\n",
    "    \"\"\"\n",
    "    lines = []\n",
    "\n",
    "    for pair in pairs_of_points:\n",
    "        point_1, point_2 = pair\n",
    "        slope = (point_2[1] - point_1[1]) / (point_2[0] - point_1[0])\n",
    "        intercept = point_1[1] - slope * point_1[0]\n",
    "        lines.append((intercept, slope))\n",
    "\n",
    "    return lines"
   ]
  },
  {
   "cell_type": "markdown",
   "metadata": {},
   "source": [
    "The cell below defines a list, `lines`, which contains several tuples. Each tuple corresponds to the intercept and slope of a different line, which passes through a different pair of points in `data`."
   ]
  },
  {
   "cell_type": "code",
   "execution_count": null,
   "metadata": {},
   "outputs": [],
   "source": [
    "pairs = generate_all_unique_pairs(data) # Generate all unique pairs of data points from data.\n",
    "lines = generate_all_lines(pairs) # Generate all (w0, w1) pairs corresponding to each unique pair of data points.\n",
    "lines"
   ]
  },
  {
   "cell_type": "markdown",
   "metadata": {
    "deletable": false,
    "editable": false
   },
   "source": [
    "<!--\n",
    "BEGIN QUESTION\n",
    "name: q6c\n",
    "points: 5\n",
    "-->\n",
    "\n",
    "\n",
    "### Problem 6(c)\n",
    "\n",
    "Now, your job is to implement steps 3 and 4 of the process outlined above. That is, you must:\n",
    "\n",
    "3. Compute the mean absolute deviation of the predictions made by each line.\n",
    "4. Pick the intercept and slope that had the lowest mean absolute deviation.\n",
    "\n",
    "To do so, you'll implement the following two functions:\n",
    "\n",
    "**`mean_absolute_error`**\n",
    "\n",
    "Complete the implementation of the function `mean_absolute_error`. It should take in an intercept, `w0`, a slope, `w1`, and a 2D array `data`, and return the mean squared error of the predictions made by the line defined by `w0` and `w1` on the given `data`. That is, it should return the value of:\n",
    "\n",
    "$$R_{\\text{abs}}(w_0, w_1) = \\frac{1}{n} \\displaystyle\\sum_{i=1}^{n} \\big|y_i - (w_0 + w_1x_i)\\big|$$\n",
    "\n",
    "<br>\n",
    "\n",
    "**`find_best_mad_line`**\n",
    "\n",
    "Then, complete the implementation of `find_best_mad_line`. It should take in:\n",
    "\n",
    "- `lines`, a list of tuples, formatted like the variable `lines` defined above, and\n",
    "- `data`, a 2D array containing our dataset, formatted like the variable `data` defined above.\n",
    "\n",
    "It should loop through each `line` in `lines`, and return the `(w0, w1)` pair (as a **tuple**) that defines line with the lowest mean absolute error on the data. If multiple `(w0, w1)` pairs have the same lowest mean absolute error, you can return any one of them."
   ]
  },
  {
   "cell_type": "code",
   "execution_count": null,
   "metadata": {},
   "outputs": [],
   "source": [
    "def mean_absolute_error(w0, w1, data):\n",
    "    \n",
    "    x_values, y_values = data[:, 0], data[:, 1]\n",
    "    \n",
    "    ...\n",
    "    \n",
    "def find_best_mad_line(lines, data):\n",
    "    ..."
   ]
  },
  {
   "cell_type": "markdown",
   "metadata": {},
   "source": [
    "Nice job – you've implemented the necessary steps to perform least absolute deviations regression! Let's call `find_best_mad_line` to see what the best least absolute deviations line is for our dataset."
   ]
  },
  {
   "cell_type": "code",
   "execution_count": null,
   "metadata": {},
   "outputs": [],
   "source": [
    "intercept_abs, slope_abs = find_best_mad_line(lines, data)"
   ]
  },
  {
   "cell_type": "code",
   "execution_count": null,
   "metadata": {},
   "outputs": [],
   "source": [
    "from IPython.display import Markdown\n",
    "Markdown(f'''\n",
    "The least absolute deviations line for our dataset is $H^*(x) = {round(intercept_abs, 4)} + {round(slope_abs, 4)}x$.\n",
    "''')"
   ]
  },
  {
   "cell_type": "markdown",
   "metadata": {},
   "source": [
    "### Problem 6(d)\n",
    "\n",
    "Now that we have calculated the least squares regression line and the least absolute deviation regression line for our data, let's try plotting them together to see the difference! Generate a scatter plot with the data in black, the least squares line in blue, and the LAD line red. \n",
    "\n",
    "Below is some code to get you started. Make use of the functions you have written above to find the slopes and intercepts of the blue and red lines. **Remember to include a picture of your plot in your PDF; this problem is not autograded.**"
   ]
  },
  {
   "cell_type": "code",
   "execution_count": null,
   "metadata": {},
   "outputs": [],
   "source": [
    "intercept_abs, slope_abs = find_best_mad_line(generate_all_lines(generate_all_unique_pairs(data)), data)\n",
    "intercept_sq, slope_sq = least_squares_regression(x_values, y_values)\n",
    "\n",
    "# Add your code to generate the plot here.\n",
    "..."
   ]
  }
 ],
 "metadata": {
  "kernelspec": {
   "display_name": "base",
   "language": "python",
   "name": "python3"
  },
  "language_info": {
   "codemirror_mode": {
    "name": "ipython",
    "version": 3
   },
   "file_extension": ".py",
   "mimetype": "text/x-python",
   "name": "python",
   "nbconvert_exporter": "python",
   "pygments_lexer": "ipython3",
   "version": "3.12.2"
  }
 },
 "nbformat": 4,
 "nbformat_minor": 4
}
