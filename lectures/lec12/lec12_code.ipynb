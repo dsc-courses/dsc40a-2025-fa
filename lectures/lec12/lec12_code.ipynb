{
  "cells": [
    {
      "cell_type": "markdown",
      "id": "f98b8655",
      "metadata": {
        "id": "f98b8655"
      },
      "source": [
        "# Lecture 12 Supplementary Notebook\n",
        "\n",
        "## DSC 40A, Fall 2025"
      ]
    },
    {
      "cell_type": "markdown",
      "id": "04088016",
      "metadata": {
        "id": "04088016"
      },
      "source": [
        "The following cell sets up the necessary imports – don't worry too much about it."
      ]
    },
    {
      "cell_type": "code",
      "execution_count": null,
      "id": "425755e9",
      "metadata": {
        "id": "425755e9"
      },
      "outputs": [],
      "source": [
        "import pandas as pd\n",
        "import numpy as np\n",
        "import matplotlib.pyplot as plt\n",
        "import plotly.express as px\n",
        "import plotly.graph_objects as go\n",
        "import plotly.io as pio\n",
        "import seaborn as sns\n",
        "\n",
        "from matplotlib_inline.backend_inline import set_matplotlib_formats\n",
        "set_matplotlib_formats(\"svg\")\n",
        "\n",
        "pd.options.plotting.backend = \"plotly\"\n",
        "\n",
        "# DSC 80 preferred styles\n",
        "pio.templates[\"dsc80\"] = go.layout.Template(\n",
        "    layout=dict(\n",
        "        margin=dict(l=30, r=30, t=30, b=30),\n",
        "        autosize=True,\n",
        "        xaxis=dict(showgrid=True),\n",
        "        yaxis=dict(showgrid=True),\n",
        "        title=dict(x=0.5, xanchor=\"center\"),\n",
        "    )\n",
        ")\n",
        "pio.templates.default = \"simple_white+dsc80\"\n",
        "\n",
        "from IPython.display import HTML"
      ]
    },
    {
      "cell_type": "markdown",
      "id": "2c1031d3",
      "metadata": {
        "id": "2c1031d3"
      },
      "source": [
        "Let's load in the sales dataset as a `pandas` DataFrame."
      ]
    },
    {
      "cell_type": "code",
      "execution_count": null,
      "id": "23af5c2a",
      "metadata": {
        "id": "23af5c2a"
      },
      "outputs": [],
      "source": [
        "data = pd.read_csv('data/sales.csv')\n",
        "data.head()"
      ]
    },
    {
      "cell_type": "markdown",
      "id": "88115698",
      "metadata": {
        "id": "88115698"
      },
      "source": [
        "## Multiple Linear Regression\n",
        "\n",
        "Using our linear algebraic formulation, the optimal intercept and slope are given by the vector $\\vec{w}^*$, where:\n",
        "\n",
        "$$\\vec{w}^* = ({X^TX})^{-1} X^T\\vec{y}$$\n",
        "\n",
        "Here:\n",
        "- $X$ is a $n \\times 2$ matrix, called the **design matrix**, defined as:\n",
        "\n",
        "$${ X} = \\begin{bmatrix} { 1} & { x_1} \\\\ { 1} & { x_2} \\\\ \\vdots & \\vdots \\\\ { 1} & { x_n} \\end{bmatrix}$$\n",
        "\n",
        "- $\\vec{y}$ is a $n$-dimensional vector, called the **observation vector**, defined as:\n",
        "\n",
        "$$\\vec{y} = \\begin{bmatrix} y_1 \\\\ y_2 \\\\ \\vdots \\\\ y_n \\end{bmatrix}$$"
      ]
    },
    {
      "cell_type": "markdown",
      "id": "b4017589",
      "metadata": {
        "id": "b4017589"
      },
      "source": [
        "### Using just one feature\n",
        "\n",
        "Before we perform multiple linear regression, let's first just perform simple linear regression. We'll try and use square footage to predict net sales; our hypothesis function will be:\n",
        "\n",
        "$$\n",
        "\\text{predicted net sales} = w_0 + w_1 \\cdot \\text{square feet}\n",
        "$$"
      ]
    },
    {
      "cell_type": "code",
      "execution_count": null,
      "id": "eb852057",
      "metadata": {
        "id": "eb852057"
      },
      "outputs": [],
      "source": [
        "# pio.renderers.default = 'plotly_mimetype+notebook' # If the plot doesn't load for you, run this first."
      ]
    },
    {
      "cell_type": "code",
      "execution_count": null,
      "id": "37b29681",
      "metadata": {
        "id": "37b29681"
      },
      "outputs": [],
      "source": [
        "fig = px.scatter(data, x='sq_ft', y='net_sales')\n",
        "fig.update_layout(xaxis_title='Square Feet', yaxis_title='Net Sales', title='Net Sales vs. Square Footage')"
      ]
    },
    {
      "cell_type": "markdown",
      "source": [
        "It seems like $w_1^*$, the optimal slope, should be positive.\n",
        "\n",
        "First, let's implement the formulas for the best slope, $w_1^*$, and intercept, $w_0^*$, we found in week 2."
      ],
      "metadata": {
        "id": "gU17BCNRMq3Z"
      },
      "id": "gU17BCNRMq3Z"
    },
    {
      "cell_type": "code",
      "source": [
        "def find_best_slope(x, y):\n",
        "    # Assume x and y are two Series.\n",
        "    numerator = ((x - np.mean(x)) * (y - np.mean(y))).sum()\n",
        "    denominator = ((x - np.mean(x)) ** 2).sum()\n",
        "    return numerator / denominator\n",
        "\n",
        "def find_best_intercept(x, y):\n",
        "    return y.mean() - find_best_slope(x, y) * x.mean()"
      ],
      "metadata": {
        "id": "KKh4MJabMxwo"
      },
      "id": "KKh4MJabMxwo",
      "execution_count": null,
      "outputs": []
    },
    {
      "cell_type": "code",
      "source": [
        "best_slope = find_best_slope(data['sq_ft'], data['net_sales'])\n",
        "best_slope"
      ],
      "metadata": {
        "id": "3ewI9b7nM1RA"
      },
      "id": "3ewI9b7nM1RA",
      "execution_count": null,
      "outputs": []
    },
    {
      "cell_type": "code",
      "source": [
        "best_intercept = find_best_intercept(data['sq_ft'], data['net_sales'])\n",
        "best_intercept"
      ],
      "metadata": {
        "id": "oqH2Zom2NHxf"
      },
      "id": "oqH2Zom2NHxf",
      "execution_count": null,
      "outputs": []
    },
    {
      "cell_type": "markdown",
      "id": "e60d5078",
      "metadata": {
        "id": "e60d5078"
      },
      "source": [
        "Now to find $w_0^*$ and $w_1^*$, we'll solve the normal equations."
      ]
    },
    {
      "cell_type": "code",
      "execution_count": null,
      "id": "d551dbb9",
      "metadata": {
        "id": "d551dbb9"
      },
      "outputs": [],
      "source": [
        "def solve_normal_equations(X, y):\n",
        "    '''Returns the optimal parameter vector, w*, given a design matrix X and observation vector y.'''\n",
        "    return np.linalg.solve(X.T @ X, X.T @ y)"
      ]
    },
    {
      "cell_type": "code",
      "execution_count": null,
      "id": "e975046d",
      "metadata": {
        "id": "e975046d"
      },
      "outputs": [],
      "source": [
        "data['1'] = 1\n",
        "\n",
        "X_one_feature_model = data[['1', 'sq_ft']]\n",
        "X_one_feature_model.to_numpy()"
      ]
    },
    {
      "cell_type": "code",
      "execution_count": null,
      "id": "ad9b33e8",
      "metadata": {
        "id": "ad9b33e8"
      },
      "outputs": [],
      "source": [
        "y = data['net_sales']"
      ]
    },
    {
      "cell_type": "code",
      "execution_count": null,
      "id": "b4875ade",
      "metadata": {
        "id": "b4875ade"
      },
      "outputs": [],
      "source": [
        "w_one_feature_model = solve_normal_equations(X_one_feature_model, y)\n",
        "w_one_feature_model"
      ]
    },
    {
      "cell_type": "markdown",
      "source": [
        "We see the optimal parameters found using the normal equations are the same as the ones we found using the explicit formulas for best intercept and slope!"
      ],
      "metadata": {
        "id": "J7un5cspNzog"
      },
      "id": "J7un5cspNzog"
    },
    {
      "cell_type": "markdown",
      "id": "542736d0",
      "metadata": {
        "id": "542736d0"
      },
      "source": [
        "The best-fitting line to this dataset (using either approach) is then\n",
        "\n",
        "$$\\text{predicted net sales} = 2.577 + 85.389 \\cdot \\text{square feet}$$"
      ]
    },
    {
      "cell_type": "markdown",
      "id": "20326c91",
      "metadata": {
        "id": "20326c91"
      },
      "source": [
        "To get predictions for all observations in my dataset:"
      ]
    },
    {
      "cell_type": "code",
      "execution_count": null,
      "id": "89a8cf8d",
      "metadata": {
        "id": "89a8cf8d"
      },
      "outputs": [],
      "source": [
        "X_one_feature_model @ w_one_feature_model"
      ]
    },
    {
      "cell_type": "markdown",
      "id": "78d90859",
      "metadata": {
        "id": "78d90859"
      },
      "source": [
        "Let's draw a plot of our hypothesis function."
      ]
    },
    {
      "cell_type": "code",
      "execution_count": null,
      "id": "ef520267",
      "metadata": {
        "id": "ef520267"
      },
      "outputs": [],
      "source": [
        "px.scatter(data, x='sq_ft', y='net_sales', title='Net Sales vs. Square Feet')\n",
        "\n",
        "x_range = np.linspace(0, 10)\n",
        "\n",
        "fig = go.Figure()\n",
        "fig.add_trace(go.Scatter(x=data['sq_ft'], y=y, mode='markers', name='actual'))\n",
        "fig.add_trace(go.Scatter(x=x_range,\n",
        "                         y=w_one_feature_model[0] + w_one_feature_model[1] * x_range,\n",
        "                         name='Linear hypothesis Function',\n",
        "                         line=dict(color='red')))\n",
        "\n",
        "fig.update_layout(xaxis_title='Square Feet', yaxis_title='Net Sales', title='Net Sales vs. Square Footage')"
      ]
    },
    {
      "cell_type": "markdown",
      "id": "37109107",
      "metadata": {
        "id": "37109107"
      },
      "source": [
        "It's also worth calculating the mean squared error of this hypothesis function, so that we can compare it to our later hypothesis functions."
      ]
    },
    {
      "cell_type": "code",
      "execution_count": null,
      "id": "f507a5c2",
      "metadata": {
        "id": "f507a5c2"
      },
      "outputs": [],
      "source": [
        "def mean_squared_error(X, y, w):\n",
        "    return np.mean(np.sum((y - X @ w)**2))\n",
        "\n",
        "mean_squared_error(X_one_feature_model, y, w_one_feature_model)"
      ]
    },
    {
      "cell_type": "markdown",
      "id": "24cb36fc",
      "metadata": {
        "id": "24cb36fc"
      },
      "source": [
        "### Using two features"
      ]
    },
    {
      "cell_type": "markdown",
      "id": "5a22dab3",
      "metadata": {
        "id": "5a22dab3"
      },
      "source": [
        "Let's now try to predict net sales from two variables: the square footage (size) of the store, and the number of competing stores in the area. Our model will be:\n",
        "\n",
        "$$\n",
        "\\text{predicted net sales} = w_0 + w_1 \\cdot \\text{square feet} + w_2 \\cdot \\text{competitors}\n",
        "$$\n",
        "\n",
        "Suppose $w_0^*$, $w_1^*$, and $w_2^*$ are our hypothesis function's optimal parameters. Do you expect $w_1^*$ to be positive or negative? What about $w_2^*$?"
      ]
    },
    {
      "cell_type": "code",
      "execution_count": null,
      "id": "00703d37",
      "metadata": {
        "id": "00703d37"
      },
      "outputs": [],
      "source": [
        "fig = px.scatter(data, x='sq_ft', y='net_sales')\n",
        "fig.update_layout(xaxis_title='Square Feet', yaxis_title='Net Sales', title='Net Sales vs. Square Footage')"
      ]
    },
    {
      "cell_type": "code",
      "execution_count": null,
      "id": "210153a6",
      "metadata": {
        "id": "210153a6"
      },
      "outputs": [],
      "source": [
        "fig = px.scatter(data, x='competing_stores', y='net_sales')\n",
        "fig.update_layout(xaxis_title='Competing stores', yaxis_title='Net Sales', title='Net Sales vs. Number of Competing Stores')"
      ]
    },
    {
      "cell_type": "markdown",
      "id": "31ed380e",
      "metadata": {
        "id": "31ed380e"
      },
      "source": [
        "Looking at separate scatter plots only tells part of the story. Let's look at a 3D scatter plot, with one axis for square footage, one axis for competing stores, and one axis for net sales."
      ]
    },
    {
      "cell_type": "code",
      "execution_count": null,
      "id": "e477b6e2",
      "metadata": {
        "scrolled": false,
        "id": "e477b6e2"
      },
      "outputs": [],
      "source": [
        "fig = go.Figure()\n",
        "fig.add_trace(go.Scatter3d(x=data['sq_ft'],\n",
        "                           y=data['competing_stores'],\n",
        "                           z=data['net_sales'], mode='markers'))\n",
        "\n",
        "fig.update_layout(scene=dict(\n",
        "    xaxis_title='Square Footage',\n",
        "    yaxis_title='Competing Stores',\n",
        "    zaxis_title='Net Sales'),\n",
        "    title='Net Sales vs. Square Footage and Number of Competing Stores')"
      ]
    },
    {
      "cell_type": "markdown",
      "id": "a8d73cd5",
      "metadata": {
        "id": "a8d73cd5"
      },
      "source": [
        "Our goal is to find the best fitting **plane** to this set of points."
      ]
    },
    {
      "cell_type": "markdown",
      "id": "1831b31e",
      "metadata": {
        "id": "1831b31e"
      },
      "source": [
        "### Question 🤔\n",
        "\n",
        "At the start of this notebook, we fit a hypothesis function with a single feature, square feet, and got that the weight of that feature was $w_1^* = 85.389$.\n",
        "\n",
        "We are about to fit a hypothesis function with two features, square feet and competing stores.\n",
        "\n",
        "**Question:** Is the weight of the square feet feature, $w_1^*$, for this **new** hypothesis function guaranteed to be equal to 85.389?\n",
        "\n",
        "A. Yes\n",
        "\n",
        "B. No"
      ]
    },
    {
      "cell_type": "markdown",
      "id": "450f8500",
      "metadata": {
        "id": "450f8500"
      },
      "source": [
        "Our design matrix is:\n",
        "    \n",
        "$$\n",
        "\\begin{pmatrix}\n",
        " 1 & s_1 & c_1\\\\\n",
        " 1 & s_2 & c_2\\\\\n",
        " \\vdots & \\vdots & \\vdots\\\\\n",
        " 1 & s_n & c_n\n",
        "\\end{pmatrix}\n",
        "$$\n",
        "\n",
        "where $s_i$ is the size of the $i$th store, and $c_n$ is the number of competitors. In code:"
      ]
    },
    {
      "cell_type": "code",
      "execution_count": null,
      "id": "cb412026",
      "metadata": {
        "id": "cb412026"
      },
      "outputs": [],
      "source": [
        "X_two_feature_model = data[['1', 'sq_ft', 'competing_stores']].to_numpy()\n",
        "X_two_feature_model"
      ]
    },
    {
      "cell_type": "markdown",
      "id": "3dfc063b",
      "metadata": {
        "id": "3dfc063b"
      },
      "source": [
        "Using the function `solve_normal_equations` that we already built:"
      ]
    },
    {
      "cell_type": "code",
      "execution_count": null,
      "id": "bd5f7e5a",
      "metadata": {
        "id": "bd5f7e5a"
      },
      "outputs": [],
      "source": [
        "w_two_feature_model = solve_normal_equations(X_two_feature_model, y)\n",
        "w_two_feature_model"
      ]
    },
    {
      "cell_type": "markdown",
      "id": "8a806b7b",
      "metadata": {
        "id": "8a806b7b"
      },
      "source": [
        "This is telling us that the best-fitting plane to this dataset is\n",
        "\n",
        "$$\\text{predicted net sales} = 303.491 + 45.151 \\cdot \\text{square feet} - 21.585 \\cdot \\text{competing stores}$$\n",
        "\n",
        "**Note that the weight of $\\text{square feet}$ in this hypothesis function is different than the weight of $\\text{square feet}$ in the hypothesis function that only had one feature!**"
      ]
    },
    {
      "cell_type": "code",
      "execution_count": null,
      "id": "6f69b685",
      "metadata": {
        "id": "6f69b685"
      },
      "outputs": [],
      "source": [
        "XX, YY = np.mgrid[-1:10:2, 0:16:2]\n",
        "Z = w_two_feature_model[0] + w_two_feature_model[1] * XX + w_two_feature_model[2] * YY\n",
        "plane = go.Surface(x=XX, y=YY, z=Z, colorscale='Reds')\n",
        "\n",
        "fig = go.Figure(data=[plane])\n",
        "fig.add_trace(go.Scatter3d(x=data['sq_ft'],\n",
        "                           y=data['competing_stores'],\n",
        "                           z=data['net_sales'], mode='markers', marker={'color': '#656DF1'}))\n",
        "\n",
        "fig.update_layout(scene=dict(\n",
        "    xaxis_title='Square Footage',\n",
        "    yaxis_title='Competing Stores',\n",
        "    zaxis_title='Net Sales'),\n",
        "    title='Net Sales vs. Square Footage and Number of Competing Stores')"
      ]
    },
    {
      "cell_type": "markdown",
      "id": "0b231fec",
      "metadata": {
        "id": "0b231fec"
      },
      "source": [
        "As before, let's calculate the MSE:"
      ]
    },
    {
      "cell_type": "code",
      "execution_count": null,
      "id": "90261759",
      "metadata": {
        "id": "90261759"
      },
      "outputs": [],
      "source": [
        "mean_squared_error(X_two_feature_model, y, w_two_feature_model)"
      ]
    },
    {
      "cell_type": "markdown",
      "id": "3809a3be",
      "metadata": {
        "id": "3809a3be"
      },
      "source": [
        "Note that this is significantly lower than the MSE of the model with just one feature:"
      ]
    },
    {
      "cell_type": "code",
      "execution_count": null,
      "id": "ca3db456",
      "metadata": {
        "id": "ca3db456"
      },
      "outputs": [],
      "source": [
        "mean_squared_error(X_one_feature_model, y, w_one_feature_model)"
      ]
    },
    {
      "cell_type": "markdown",
      "id": "f40d0ca7",
      "metadata": {
        "id": "f40d0ca7"
      },
      "source": [
        "### All features\n",
        "\n",
        "Let's fit a hypothesis function using all of the features."
      ]
    },
    {
      "cell_type": "code",
      "execution_count": null,
      "id": "3b3757fd",
      "metadata": {
        "id": "3b3757fd"
      },
      "outputs": [],
      "source": [
        "column_order = ['1', 'sq_ft', 'competing_stores', 'inventory', 'advertising', 'district_size']\n",
        "X_all_features = data[column_order].to_numpy()\n",
        "X_all_features"
      ]
    },
    {
      "cell_type": "code",
      "execution_count": null,
      "id": "be808d5a",
      "metadata": {
        "id": "be808d5a"
      },
      "outputs": [],
      "source": [
        "w_all_features = solve_normal_equations(X_all_features, y)\n",
        "w_all_features"
      ]
    },
    {
      "cell_type": "code",
      "execution_count": null,
      "id": "6bcf0e43",
      "metadata": {
        "id": "6bcf0e43"
      },
      "outputs": [],
      "source": [
        "for i, feature in enumerate(column_order):\n",
        "    if feature == '1':\n",
        "        print(f'intercept:\\t{w_all_features[0]:0.3f}')\n",
        "    else:\n",
        "        print(f'{feature}:\\t{w_all_features[i]:0.3f}')"
      ]
    },
    {
      "cell_type": "markdown",
      "id": "ecea1862",
      "metadata": {
        "id": "ecea1862"
      },
      "source": [
        "The MSE of this model is even lower!"
      ]
    },
    {
      "cell_type": "code",
      "execution_count": null,
      "id": "45f71da8",
      "metadata": {
        "id": "45f71da8"
      },
      "outputs": [],
      "source": [
        "mean_squared_error(X_all_features, y, w_all_features)"
      ]
    },
    {
      "cell_type": "markdown",
      "id": "73d75dcc",
      "metadata": {
        "id": "73d75dcc"
      },
      "source": [
        "Note that I can't visualize this hypothesis function, since I would need to be able to visualize in 6D, but I can still find this hypothesis function's predictions:"
      ]
    },
    {
      "cell_type": "code",
      "execution_count": null,
      "id": "6819a6ce",
      "metadata": {
        "id": "6819a6ce"
      },
      "outputs": [],
      "source": [
        "X_all_features @ w_all_features"
      ]
    },
    {
      "cell_type": "markdown",
      "id": "8492f3ab",
      "metadata": {
        "id": "8492f3ab"
      },
      "source": [
        "## Interpreting parameters"
      ]
    },
    {
      "cell_type": "markdown",
      "id": "59050e97",
      "metadata": {
        "id": "59050e97"
      },
      "source": [
        "### Which feature is most \"important\"?\n",
        "\n",
        "We should standardize in order to account for the difference in units and scale between the features.\n",
        "\n",
        "**Question:** What would happen if I try to standardize the column of all 1s? 🧐"
      ]
    },
    {
      "cell_type": "code",
      "execution_count": null,
      "id": "3238b911",
      "metadata": {
        "id": "3238b911"
      },
      "outputs": [],
      "source": [
        "features = data[column_order].iloc[:, 1:].to_numpy()"
      ]
    },
    {
      "cell_type": "code",
      "execution_count": null,
      "id": "6e279c19",
      "metadata": {
        "id": "6e279c19"
      },
      "outputs": [],
      "source": [
        "standardized_features = (features - features.mean(axis=0)) / features.std(axis=0)"
      ]
    },
    {
      "cell_type": "code",
      "execution_count": null,
      "id": "e049238f",
      "metadata": {
        "id": "e049238f"
      },
      "outputs": [],
      "source": [
        "X_standardized = np.column_stack([\n",
        "    np.ones(data.shape[0]),\n",
        "    standardized_features\n",
        "])"
      ]
    },
    {
      "cell_type": "code",
      "execution_count": null,
      "id": "4ec632c2",
      "metadata": {
        "id": "4ec632c2"
      },
      "outputs": [],
      "source": [
        "w_standardized = solve_normal_equations(X_standardized, y)\n",
        "w_standardized"
      ]
    },
    {
      "cell_type": "code",
      "execution_count": null,
      "id": "969d5fb6",
      "metadata": {
        "id": "969d5fb6"
      },
      "outputs": [],
      "source": [
        "for i, feature in enumerate(column_order):\n",
        "    if feature == '1':\n",
        "        print(f'intercept:\\t{w_standardized[0]:0.3f}')\n",
        "    else:\n",
        "        print(f'{feature}:\\t{w_standardized[i]:0.3f}')"
      ]
    },
    {
      "cell_type": "markdown",
      "id": "c4f6cf4e",
      "metadata": {
        "id": "c4f6cf4e"
      },
      "source": [
        "The district size appears to have the largest effect on the net sales."
      ]
    },
    {
      "cell_type": "code",
      "execution_count": null,
      "id": "a39ad6c1",
      "metadata": {
        "id": "a39ad6c1"
      },
      "outputs": [],
      "source": [
        "mean_squared_error(X_standardized, y, w_standardized)"
      ]
    },
    {
      "cell_type": "markdown",
      "id": "96ab4c6a",
      "metadata": {
        "id": "96ab4c6a"
      },
      "source": [
        "Note that standardizing has no impact on the actual predictions made by our hypothesis function, and hence the MSE – it just makes the weights more interpretable."
      ]
    }
  ],
  "metadata": {
    "kernelspec": {
      "display_name": "Python 3 (ipykernel)",
      "language": "python",
      "name": "python3"
    },
    "language_info": {
      "codemirror_mode": {
        "name": "ipython",
        "version": 3
      },
      "file_extension": ".py",
      "mimetype": "text/x-python",
      "name": "python",
      "nbconvert_exporter": "python",
      "pygments_lexer": "ipython3",
      "version": "3.8.18"
    },
    "colab": {
      "provenance": []
    }
  },
  "nbformat": 4,
  "nbformat_minor": 5
}